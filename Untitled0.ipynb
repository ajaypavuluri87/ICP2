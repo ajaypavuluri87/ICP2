{
  "nbformat": 4,
  "nbformat_minor": 0,
  "metadata": {
    "colab": {
      "provenance": [],
      "authorship_tag": "ABX9TyOjjf9JwrR48zIAqiygGxfH",
      "include_colab_link": true
    },
    "kernelspec": {
      "name": "python3",
      "display_name": "Python 3"
    },
    "language_info": {
      "name": "python"
    }
  },
  "cells": [
    {
      "cell_type": "markdown",
      "metadata": {
        "id": "view-in-github",
        "colab_type": "text"
      },
      "source": [
        "<a href=\"https://colab.research.google.com/github/ajaypavuluri87/ICP2/blob/main/Untitled0.ipynb\" target=\"_parent\"><img src=\"https://colab.research.google.com/assets/colab-badge.svg\" alt=\"Open In Colab\"/></a>"
      ]
    },
    {
      "cell_type": "code",
      "execution_count": null,
      "metadata": {
        "id": "qw46UoOJuXbU"
      },
      "outputs": [],
      "source": []
    },
    {
      "cell_type": "markdown",
      "source": [
        "Ajay Kumar Pavuluri-700761696\n",
        "ICP-2"
      ],
      "metadata": {
        "id": "ZBi0SVx3ukKN"
      }
    },
    {
      "cell_type": "markdown",
      "source": [
        "Create a class Employee and then do the following\n",
        "• Create a data member to count the number of Employees\n",
        "• Create a constructor to initialize name, family, salary, department\n",
        "• Create a function to average salary\n",
        "• Create a Fulltime Employee class and it should inherit the properties of Employee class\n",
        "• Create the instances of Fulltime Employee class and Employee class and call their member functions."
      ],
      "metadata": {
        "id": "4RKaHaacuv2c"
      }
    },
    {
      "cell_type": "code",
      "source": [
        "# Employee Class creation\n",
        "class Employee():\n",
        "    # create data members to track count of employee and list of salaries\n",
        "    emp_count = 0\n",
        "    # constructor for initializing the variables\n",
        "    def __init__(self,name,family,salary,department):\n",
        "        self.name = name,\n",
        "        self.family = family,\n",
        "        self.salary = salary,\n",
        "        self.department = department,\n",
        "        Employee.emp_count += 1\n",
        "\n",
        "    # function to return average of salary\n",
        "    def avg_salary(employees:list):\n",
        "        salaries_list = [emp.salary[0] for emp in employees] # method 1 : generic\n",
        "        # print(emp.salary[0] for emp in employees)\n",
        "        avg_sal = sum(salaries_list)/Employee.emp_count      # method 2 : using numpy\n",
        "        # avg_sal = np.mean(salaries_list)\n",
        "        return avg_sal\n",
        "\n",
        "# create FullTimeEmployee class and inherit the properties from Employee class\n",
        "class FullTimeEmployee(Employee):\n",
        "    def __init__(self,name,family,salary,department):\n",
        "        # calling parent class constructor\n",
        "        super().__init__(name,family,salary,department)\n",
        "\n",
        "employees = []\n",
        "employees.append(Employee(\"Ajay\",\"Pavuluri\",400000,\"Finance\"))\n",
        "employees.append(Employee(\"Suresh\",\"Peddi\",60000,\"Artificial Intelligence\"))\n",
        "employees.append(FullTimeEmployee(\"Rohit\",\"Reddy\",500000,\"Marketing\"))\n",
        "employees.append(FullTimeEmployee(\"Srikanth\",\"Vunnam\",200000,\"Data Science\"))\n",
        "\n",
        "\n",
        "print(\"Output using employee class : \",  Employee.avg_salary(employees))\n",
        "print(\"Output using fulltime employee class : \",FullTimeEmployee.avg_salary(employees))"
      ],
      "metadata": {
        "colab": {
          "base_uri": "https://localhost:8080/"
        },
        "id": "pj7xKAnVyQQ7",
        "outputId": "f4e0dc73-6a3c-4ac4-93d0-9c609d4381a7"
      },
      "execution_count": 6,
      "outputs": [
        {
          "output_type": "stream",
          "name": "stdout",
          "text": [
            "Output using employee class :  290000.0\n",
            "Output using fulltime employee class :  290000.0\n"
          ]
        }
      ]
    },
    {
      "cell_type": "markdown",
      "source": [
        "Using NumPy create random vector of size 20 having only float in the range 1-20.\n",
        "\n",
        "Then reshape the array to 4 by 5\n",
        "\n",
        "Then replace the max in each row by 0 (axis=1)\n",
        "(you can NOT implement it via for loop)"
      ],
      "metadata": {
        "id": "z85LdRIQyt9n"
      }
    },
    {
      "cell_type": "code",
      "source": [
        "import numpy as np\n",
        "#generating a vector\n",
        "vector = np.random.uniform(1, 20, 20)\n",
        "\n",
        "#reshaping the vector into 4 * 5 matrix\n",
        "matrix = vector.reshape(4, 5)\n",
        "\n",
        "print(\"Original Matrix: \\n\",matrix)\n",
        "\n",
        "#finding the index of the max element along axis = 1\n",
        "indices = np.argmax(matrix, axis=1)\n",
        "\n",
        "#Create a range of indices for each row\n",
        "row_indices = np.arange(matrix.shape[0])\n",
        "\n",
        "#Use advanced indexing to replace max values with 0\n",
        "matrix[row_indices, indices] = 0\n",
        "\n",
        "print(\"Resultant Matrix: \\n\",matrix)"
      ],
      "metadata": {
        "colab": {
          "base_uri": "https://localhost:8080/"
        },
        "id": "Clb3ps__yyBU",
        "outputId": "a9892e86-d26c-4f17-f6d3-c894058f74d8"
      },
      "execution_count": 7,
      "outputs": [
        {
          "output_type": "stream",
          "name": "stdout",
          "text": [
            "Original Matrix: \n",
            " [[11.40650528  6.40754175  6.96904287 16.77290397  1.83660479]\n",
            " [ 7.40722967  3.0035843   4.29391943  4.86105331 19.39755102]\n",
            " [13.08356927  3.19686929 19.32672893  3.29045231  2.63131567]\n",
            " [ 5.07071147 11.33300674 17.31140588  8.13616061 14.78638524]]\n",
            "Resultant Matrix: \n",
            " [[11.40650528  6.40754175  6.96904287  0.          1.83660479]\n",
            " [ 7.40722967  3.0035843   4.29391943  4.86105331  0.        ]\n",
            " [13.08356927  3.19686929  0.          3.29045231  2.63131567]\n",
            " [ 5.07071147 11.33300674  0.          8.13616061 14.78638524]]\n"
          ]
        }
      ]
    }
  ]
}